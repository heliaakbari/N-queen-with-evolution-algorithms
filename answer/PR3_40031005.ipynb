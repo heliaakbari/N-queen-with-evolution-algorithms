{
  "cells": [
    {
      "cell_type": "markdown",
      "id": "4e262310",
      "metadata": {
        "id": "4e262310"
      },
      "source": [
        "### Import Libs"
      ]
    },
    {
      "cell_type": "code",
      "execution_count": 1517,
      "id": "95d3f1324b0501e6",
      "metadata": {
        "id": "95d3f1324b0501e6"
      },
      "outputs": [],
      "source": [
        "import matplotlib.pyplot as plt\n",
        "import numpy as np\n",
        "import random\n",
        "import math"
      ]
    },
    {
      "cell_type": "markdown",
      "id": "9da22522",
      "metadata": {
        "id": "9da22522"
      },
      "source": [
        "### Create Individual"
      ]
    },
    {
      "cell_type": "code",
      "execution_count": 1518,
      "id": "de1142d0",
      "metadata": {
        "id": "de1142d0"
      },
      "outputs": [],
      "source": [
        "def create_individual(NUM_QUEENS):\n",
        "    # TODO: create a random chromosome\n",
        "  x = [i for i in range(NUM_QUEENS)]\n",
        "  x = np.random.permutation(x)\n",
        "  return x"
      ]
    },
    {
      "cell_type": "markdown",
      "id": "4ce5eabe",
      "metadata": {
        "id": "4ce5eabe"
      },
      "source": [
        "### Generate Population"
      ]
    },
    {
      "cell_type": "code",
      "execution_count": 1519,
      "id": "a66475735b552b41",
      "metadata": {
        "id": "a66475735b552b41"
      },
      "outputs": [],
      "source": [
        "def generate_population(population_size,numQueens):\n",
        "    population = []\n",
        "    for _ in range(population_size):\n",
        "        new_individual = create_individual(numQueens)\n",
        "        population.append(new_individual)\n",
        "\n",
        "    return population"
      ]
    },
    {
      "cell_type": "markdown",
      "source": [
        "# stochastic universal selection"
      ],
      "metadata": {
        "id": "YuI4P6bvcLRs"
      },
      "id": "YuI4P6bvcLRs"
    },
    {
      "cell_type": "code",
      "source": [
        "def SUS(population, NUMBER_OF_PARENTS):   # Stochastic Universal Sampling\n",
        "    fitness_array = population_fitness(population)\n",
        "    total_fitness = sum(fitness_array)\n",
        "    random.shuffle(population)\n",
        "    cumulative = 0\n",
        "    cumulative_array = []\n",
        "    for i in range(len(population)):\n",
        "      cumulative_array.append([population[i],[ cumulative/total_fitness, (cumulative+fitness_array[i])/total_fitness ]])\n",
        "      cumulative += fitness_array[i]\n",
        "    point_distance = 1 / NUMBER_OF_PARENTS\n",
        "    start_point = random.uniform(0, point_distance)\n",
        "    points = [start_point + i * point_distance for i in range(NUMBER_OF_PARENTS)]\n",
        "    parents = []\n",
        "    for point in points:\n",
        "      for chromosome in cumulative_array:\n",
        "        if chromosome[1][0] <= point < chromosome[1][1]:\n",
        "          parents.append(chromosome[0])\n",
        "    return parents"
      ],
      "metadata": {
        "id": "M9g1ARKDcQRF"
      },
      "id": "M9g1ARKDcQRF",
      "execution_count": 1520,
      "outputs": []
    },
    {
      "cell_type": "markdown",
      "id": "0d944dab",
      "metadata": {
        "id": "0d944dab"
      },
      "source": [
        "### Parent Selection"
      ]
    },
    {
      "cell_type": "code",
      "execution_count": 1521,
      "id": "261340cc4efeca3",
      "metadata": {
        "id": "261340cc4efeca3"
      },
      "outputs": [],
      "source": [
        "def parent_selection(population,mue):\n",
        "    parents = SUS(population,mue)\n",
        "    #TODO: choose the pairs of parents\n",
        "    random.shuffle(parents)\n",
        "    pairs = np.array(parents).reshape(-1,2,len(parents[0]))\n",
        "    return pairs"
      ]
    },
    {
      "cell_type": "markdown",
      "id": "c6c4da1f",
      "metadata": {
        "id": "c6c4da1f"
      },
      "source": [
        "### Next Generation Selection"
      ]
    },
    {
      "cell_type": "code",
      "execution_count": 1522,
      "id": "d22feb7e",
      "metadata": {
        "id": "d22feb7e"
      },
      "outputs": [],
      "source": [
        "def next_generation_selection(children_population,mue):\n",
        "    next_generation = SUS(children_population, mue)\n",
        "    #TODO: choose the next_generation\n",
        "\n",
        "    return next_generation"
      ]
    },
    {
      "cell_type": "markdown",
      "source": [
        "uniform order crossover"
      ],
      "metadata": {
        "id": "S6R9yS1SBmzO"
      },
      "id": "S6R9yS1SBmzO"
    },
    {
      "cell_type": "code",
      "source": [
        "def order_crossover(individual_1, individual_2):\n",
        "    child_1 = [x for x in individual_1]\n",
        "    child_2 = [y for y in individual_2]\n",
        "    shuffle_size = math.floor(len(individual_1)/2)\n",
        "    size = len(individual_1)\n",
        "    if size < shuffle_size:\n",
        "        shuffle_size = size - 1\n",
        "\n",
        "    index = [*range(size)]\n",
        "    bit_mask = set(random.sample(index, shuffle_size))\n",
        "    shuffle_1 = [individual_1[idx] for idx in bit_mask]\n",
        "    shuffle_2 = [individual_2[idx] for idx in bit_mask]\n",
        "    inv_bit_mask = set(index) - bit_mask\n",
        "\n",
        "    parent1 = [individual_1[i] for i in inv_bit_mask]\n",
        "    parent2 = [individual_2[i] for i in inv_bit_mask]\n",
        "\n",
        "    order_shuffle_1 = set(shuffle_1)\n",
        "    order_shuffle_2 = set(shuffle_2)\n",
        "\n",
        "    can_shuffle = order_shuffle_1 & order_shuffle_2\n",
        "    remain_shuffle = order_shuffle_1 ^ order_shuffle_2\n",
        "\n",
        "    # create order from data\n",
        "    order_shuffle_1 = [x for x in shuffle_1 if x in can_shuffle]\n",
        "    order_shuffle_2 = [x for x in shuffle_2 if x in can_shuffle]\n",
        "\n",
        "    parent1 = [x for x in parent1 if x in remain_shuffle]\n",
        "    parent2 = [x for x in parent2 if x in remain_shuffle]\n",
        "\n",
        "    order_shuffle_1 += parent1\n",
        "    order_shuffle_2 += parent2\n",
        "\n",
        "    i = 0\n",
        "    for idx in bit_mask:\n",
        "        child_1[idx] = order_shuffle_2[i]\n",
        "        child_2[idx] = order_shuffle_1[i]\n",
        "        i += 1\n",
        "\n",
        "    return child_1, child_2"
      ],
      "metadata": {
        "id": "ya1FR1LxBmOA"
      },
      "id": "ya1FR1LxBmOA",
      "execution_count": 1523,
      "outputs": []
    },
    {
      "cell_type": "markdown",
      "id": "f4380bb4",
      "metadata": {
        "id": "f4380bb4"
      },
      "source": [
        "### Crossover"
      ]
    },
    {
      "cell_type": "code",
      "execution_count": 1524,
      "id": "a140f7ad9542ffba",
      "metadata": {
        "id": "a140f7ad9542ffba"
      },
      "outputs": [],
      "source": [
        "def crossover(pairs):\n",
        "    offsprings = []\n",
        "    for pair in pairs:\n",
        "      child1, child2 = order_crossover(pair[0],pair[1])\n",
        "      offsprings.append(child1)\n",
        "      offsprings.append(child2)\n",
        "    #TODO: implement you crossover algorithm\n",
        "    return offsprings"
      ]
    },
    {
      "cell_type": "markdown",
      "id": "0bdde8d6",
      "metadata": {
        "id": "0bdde8d6"
      },
      "source": [
        "### Mutation"
      ]
    },
    {
      "cell_type": "code",
      "execution_count": 1525,
      "id": "7f3f19b5790d8e8e",
      "metadata": {
        "id": "7f3f19b5790d8e8e"
      },
      "outputs": [],
      "source": [
        "def mutate(population,mutationRate):\n",
        "    #TODO: implement mutate\n",
        "    for chromosome in population:\n",
        "      for row in range(len(chromosome)):\n",
        "        if random.random() < mutationRate:\n",
        "          temp = chromosome[row]\n",
        "          chromosome[row] = chromosome[(row+1) % len(chromosome)]\n",
        "          chromosome[(row+1) % len(chromosome)] = temp\n",
        "\n",
        "    return population"
      ]
    },
    {
      "cell_type": "markdown",
      "id": "833ea75e",
      "metadata": {
        "id": "833ea75e"
      },
      "source": [
        "### Score Function"
      ]
    },
    {
      "cell_type": "code",
      "execution_count": 1526,
      "id": "15c492631c51bd96",
      "metadata": {
        "id": "15c492631c51bd96"
      },
      "outputs": [],
      "source": [
        "def fitness_score(chromosome):\n",
        "    fit_score = 0\n",
        "    #TODO: calculate fitness score\n",
        "    NUM_QUEENS = len(chromosome)\n",
        "    for row in range(NUM_QUEENS):\n",
        "        col = chromosome[row]\n",
        "        for other_row in range(NUM_QUEENS):\n",
        "            #queens cannot pair with itself\n",
        "            if other_row == row:\n",
        "                continue\n",
        "            if chromosome[other_row] == col:\n",
        "                continue\n",
        "            if other_row + chromosome[other_row] == row + col:\n",
        "                continue\n",
        "            if other_row - chromosome[other_row] == row - col:\n",
        "                continue\n",
        "            #score++ if every pair of queens are non-attacking.\n",
        "            fit_score += 1\n",
        "\n",
        "    #divide by 2 as pairs of queens are commutative\n",
        "    return int(fit_score/2) + 1\n"
      ]
    },
    {
      "cell_type": "markdown",
      "id": "9a4ea63e",
      "metadata": {
        "id": "9a4ea63e"
      },
      "source": [
        "## Calculate Population Fitness"
      ]
    },
    {
      "cell_type": "code",
      "execution_count": 1527,
      "id": "ae632959",
      "metadata": {
        "id": "ae632959"
      },
      "outputs": [],
      "source": [
        "def population_fitness(population):\n",
        "    population_fitness = 0\n",
        "    individuals_fitnesses=[]\n",
        "    for chromosome in population:\n",
        "        fitness_sc = fitness_score(chromosome)\n",
        "        population_fitness += fitness_sc\n",
        "        individuals_fitnesses.append(fitness_sc)\n",
        "    return individuals_fitnesses"
      ]
    },
    {
      "cell_type": "code",
      "source": [
        "def printSolution(chromosome, numQueens):\n",
        "  for i in range(numQueens):\n",
        "    s = \"\"\n",
        "    for j in range(numQueens):\n",
        "      if chromosome[i] == j :\n",
        "        s = s + \"[X]\"\n",
        "      else:\n",
        "        s = s + \"[ ]\"\n",
        "    print(s)"
      ],
      "metadata": {
        "id": "N5VgloC2zmXj"
      },
      "id": "N5VgloC2zmXj",
      "execution_count": 1528,
      "outputs": []
    },
    {
      "cell_type": "markdown",
      "id": "99b5facc",
      "metadata": {
        "id": "99b5facc"
      },
      "source": [
        "### Termination Condition"
      ]
    },
    {
      "cell_type": "code",
      "execution_count": 1529,
      "id": "5f77977c",
      "metadata": {
        "id": "5f77977c"
      },
      "outputs": [],
      "source": [
        "def check_end(population,fitness_array,generation,limit) -> bool:\n",
        "  target = (len(population[1])*(len(population[1])-1)/2)+1\n",
        "  if generation > limit :\n",
        "    return True\n",
        "  for i in range(len(population)):\n",
        "    if fitness_array[i] == target:\n",
        "      printSolution(population[i],len(population[i]))\n",
        "      return True\n",
        "  return False"
      ]
    },
    {
      "cell_type": "markdown",
      "id": "b223c1dc",
      "metadata": {
        "id": "b223c1dc"
      },
      "source": [
        "### Run Your Algorithms"
      ]
    },
    {
      "cell_type": "code",
      "execution_count": 1539,
      "id": "392ff74d8fb7ab3e",
      "metadata": {
        "colab": {
          "base_uri": "https://localhost:8080/",
          "height": 633
        },
        "id": "392ff74d8fb7ab3e",
        "outputId": "243d4a89-7105-4023-bce1-20e5455da788"
      },
      "outputs": [
        {
          "output_type": "stream",
          "name": "stdout",
          "text": [
            "[ ][ ][ ][ ][X][ ][ ][ ]\n",
            "[ ][ ][X][ ][ ][ ][ ][ ]\n",
            "[X][ ][ ][ ][ ][ ][ ][ ]\n",
            "[ ][ ][ ][ ][ ][ ][X][ ]\n",
            "[ ][X][ ][ ][ ][ ][ ][ ]\n",
            "[ ][ ][ ][ ][ ][ ][ ][X]\n",
            "[ ][ ][ ][ ][ ][X][ ][ ]\n",
            "[ ][ ][ ][X][ ][ ][ ][ ]\n"
          ]
        },
        {
          "output_type": "display_data",
          "data": {
            "text/plain": [
              "<Figure size 640x480 with 1 Axes>"
            ],
            "image/png": "[encoded data removed]"
          },
          "metadata": {}
        }
      ],
      "source": [
        "# The genetic algorithm]\n",
        "INIT_POPULATION = 16\n",
        "MEU = 8\n",
        "NUM_QUEENS = 8\n",
        "LIMIT = 2000\n",
        "MUTATION_RATE = 0.05\n",
        "generation = 0\n",
        "solution_is_found = False\n",
        "avg_fitness = []\n",
        "max_fitness = []\n",
        "opt_fitness = []\n",
        "population = generate_population(INIT_POPULATION, NUM_QUEENS)\n",
        "population = next_generation_selection(population,MEU)\n",
        "fitness_array = population_fitness(population)\n",
        "total_fitness = sum(fitness_array)\n",
        "while not check_end(population,fitness_array,generation,LIMIT):\n",
        "# TODO: this is a default setup which you maybe need to change.\n",
        "  pairs = parent_selection(population,MEU)\n",
        "  children = crossover(pairs)\n",
        "  mu_children = mutate(population, MUTATION_RATE)\n",
        "  population = children + population\n",
        "  population = next_generation_selection(population,MEU)\n",
        "  fitness_array = population_fitness(population)\n",
        "  total_fitness = sum(fitness_array)\n",
        "  generation += 1\n",
        "  avg_fit =  total_fitness / len(population)\n",
        "  max_fit = max(fitness_array)\n",
        "  avg_fitness.append(avg_fit)\n",
        "  max_fitness.append(max_fit)\n",
        "  opt_fitness.append((len(population[1])*(len(population[1])-1)/2)+1)\n",
        "\n",
        "plt.bar(range(generation), opt_fitness, color='yellow', label=\"optimal\")\n",
        "plt.bar(range(generation), max_fitness, color='blue', label=\"best\")\n",
        "plt.bar(range(generation), avg_fitness, color='skyblue', label=\"avg\")\n",
        "plt.xlabel('Generation', fontsize=20)\n",
        "plt.ylabel('Fitness(average, best, optimal)', fontsize=14)\n",
        "plt.title('Fitness over Generations', fontsize=20)\n",
        "plt.show()"
      ]
    },
    {
      "cell_type": "markdown",
      "id": "174334b7",
      "metadata": {
        "id": "174334b7"
      },
      "source": [
        "### See Your Progress Over Generations"
      ]
    }
  ],
  "metadata": {
    "kernelspec": {
      "display_name": "Python 3",
      "name": "python3"
    },
    "language_info": {
      "codemirror_mode": {
        "name": "ipython",
        "version": 2
      },
      "file_extension": ".py",
      "mimetype": "text/x-python",
      "name": "python",
      "nbconvert_exporter": "python",
      "pygments_lexer": "ipython2",
      "version": "2.7.6"
    },
    "colab": {
      "provenance": [],
      "gpuType": "T4"
    },
    "accelerator": "GPU"
  },
  "nbformat": 4,
  "nbformat_minor": 5
}